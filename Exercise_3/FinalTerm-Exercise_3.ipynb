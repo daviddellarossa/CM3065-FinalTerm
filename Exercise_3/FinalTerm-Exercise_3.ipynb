{
 "cells": [
  {
   "cell_type": "markdown",
   "metadata": {},
   "source": [
    "## Exercise 3"
   ]
  },
  {
   "cell_type": "markdown",
   "metadata": {},
   "source": [
    "### Installation of ffmpeg on windows machine\n",
    "\n",
    "https://www.ffmpeg.org/download.html#build-windows\n",
    "following link to \n",
    "https://www.gyan.dev/ffmpeg/builds/\n",
    "\n",
    "Four options available:\n",
    "\n",
    "git full - built from master branch with a large set of libraries\n",
    "git essentials - built from master branch with commonly-used libraries\n",
    "release full - built from latest release branch with a large set of libraries\n",
    "release essentials - built from latest release branch with commonly-used libraries downloaded the following package\n",
    "\n",
    "Opted for the full one\n",
    "https://www.gyan.dev/ffmpeg/builds/packages/ffmpeg-2021-08-18-git-dbe40478e2-full_build.7z\n",
    "\n",
    "This also contains ffprobe"
   ]
  },
  {
   "cell_type": "code",
   "execution_count": 7,
   "metadata": {},
   "outputs": [
    {
     "name": "stdout",
     "output_type": "stream",
     "text": [
      "Collecting ffprobe-python\n",
      "  Downloading ffprobe_python-1.0.3-py3-none-any.whl (5.7 kB)\n",
      "Installing collected packages: ffprobe-python\n",
      "Successfully installed ffprobe-python-1.0.3\n"
     ]
    }
   ],
   "source": [
    "from os import walk\n",
    "\n",
    "import sys\n",
    "\n",
    "!{sys.executable} -m pip install ffprobe-python\n"
   ]
  },
  {
   "cell_type": "code",
   "execution_count": 32,
   "metadata": {},
   "outputs": [],
   "source": [
    "from ffprobe import FFProbe"
   ]
  },
  {
   "cell_type": "code",
   "execution_count": 82,
   "metadata": {},
   "outputs": [
    {
     "name": "stdout",
     "output_type": "stream",
     "text": [
      "Report for file Exercise3_Films\\Cosmos_War_of_the_Planets.mp4\n",
      "-- Wrong audio bit rate. Expected 256 kbps, found 317.103 kbps\n",
      "-- Wrong frame rate. Expected 25, found 30\n",
      "-- Wrong aspect ratio. Expected 16/9 (1.7777777777777777), found 1.7740112994350283\n",
      "-- Wrong resolution. Expected 640x360, found 628x354\n",
      "-- Wrong video bit rate. Expected between 10 and 15 Mbps, found 2.989377 Mbps\n",
      "---------------------------------------------\n",
      "\n",
      "\n",
      "Report for file Exercise3_Films\\Last_man_on_earth_1964.mov\n",
      "-- Wrong codec. Expected aac, found pcm_s16le\n",
      "-- Wrong audio bit rate. Expected 256 kbps, found 1536.0 kbps\n",
      "-- Wrong codec. Expected h.264, found prores\n",
      "-- Wrong frame rate. Expected 25, found 24\n",
      "-- Wrong video bit rate. Expected between 10 and 15 Mbps, found 9.285191 Mbps\n",
      "---------------------------------------------\n",
      "\n",
      "\n",
      "Report for file Exercise3_Films\\The_Gun_and_the_Pulpit.avi\n",
      "-- Wrong codec. Expected aac, found pcm_s16le\n",
      "-- Wrong audio bit rate. Expected 256 kbps, found 1536.0 kbps\n",
      "-- Wrong codec. Expected h.264, found rawvideo\n",
      "-- Wrong aspect ratio. Expected 16/9 (1.7777777777777777), found 1.7821782178217822\n",
      "-- Wrong resolution. Expected 640x360, found 720x404\n",
      "-- Wrong video bit rate. Expected between 10 and 15 Mbps, found 87.438878 Mbps\n",
      "---------------------------------------------\n",
      "\n",
      "\n",
      "Report for file Exercise3_Films\\The_Hill_Gang_Rides_Again.mp4\n",
      "-- Wrong audio bit rate. Expected 256 kbps, found 253.272 kbps\n",
      "-- Wrong video bit rate. Expected between 10 and 15 Mbps, found 7.53773 Mbps\n",
      "---------------------------------------------\n",
      "\n",
      "\n",
      "Report for file Exercise3_Films\\Voyage_to_the_Planet_of_Prehistoric_Women.mp4\n",
      "-- Wrong codec. Expected aac, found mp3\n",
      "-- Wrong audio bit rate. Expected 256 kbps, found 320.0 kbps\n",
      "-- Wrong codec. Expected h.264, found hevc\n",
      "-- Wrong frame rate. Expected 25, found 30\n",
      "-- Wrong video bit rate. Expected between 10 and 15 Mbps, found 8.038857 Mbps\n",
      "---------------------------------------------\n",
      "\n",
      "\n"
     ]
    }
   ],
   "source": [
    "\n",
    "def CheckFile(filePath):\n",
    "    report = f'Report for file {filePath}\\n'\n",
    "    \n",
    "    audioStream = None\n",
    "    videoStream = None\n",
    "    \n",
    "    if container == f[-3:] != 'mp4':\n",
    "        report += f'-- Wrong video container format. Expected mp4, found {container}\\n'\n",
    "    \n",
    "    metadata = FFProbe(filePath)\n",
    "    \n",
    "    for s in metadata.streams:\n",
    "        if s.is_audio():\n",
    "            audioStream = s\n",
    "        elif s.is_video():\n",
    "            videoStream = s\n",
    "            \n",
    "    if audioStream == None:\n",
    "        report += '-- No audio stream in file\\n'\n",
    "    else:\n",
    "        if audioStream.codec() != 'aac':\n",
    "            report += f'-- Wrong codec. Expected aac, found {audioStream.codec()}\\n'\n",
    "        audioBitRate = int(audioStream.bit_rate) / 1000\n",
    "        if (audioBitRate != 256):\n",
    "            report += f'-- Wrong audio bit rate. Expected 256 kbps, found {audioBitRate} kbps\\n'\n",
    "        \n",
    "    if videoStream == None:\n",
    "        print('-- No video stream in file\\n')\n",
    "    else:\n",
    "        if videoStream.codec() != 'h264':\n",
    "            report += f'-- Wrong codec. Expected h.264, found {videoStream.codec()}\\n'\n",
    "        \n",
    "        frameRate = round(videoStream.frames() / videoStream.duration_seconds())\n",
    "        if frameRate != 25:\n",
    "            report += f'-- Wrong frame rate. Expected 25, found {frameRate}\\n'\n",
    "        \n",
    "        aspectRatio = videoStream.frame_size()[0] / videoStream.frame_size()[1]\n",
    "        if aspectRatio != 16/9:\n",
    "            report += f'-- Wrong aspect ratio. Expected 16/9 ({16/9}), found {aspectRatio}\\n'\n",
    "        if videoStream.frame_size() != (640, 360):\n",
    "            report += f'-- Wrong resolution. Expected 640x360, found {videoStream.frame_size()[0]}x{videoStream.frame_size()[1]}\\n'\n",
    "        \n",
    "        videoBitRate = int(videoStream.bit_rate) / 1000000\n",
    "        if (videoBitRate < 10 or videoBitRate > 15):\n",
    "            report += f'-- Wrong video bit rate. Expected between 10 and 15 Mbps, found {videoBitRate} Mbps\\n'\n",
    "    report += '---------------------------------------------\\n\\n'\n",
    "    return report\n",
    "\n",
    "filmFolderPath = \"Exercise3_Films\"\n",
    "\n",
    "filenames = next(walk(filmFolderPath), (None, None, []))[2]\n",
    "\n",
    "for f in filenames:\n",
    "    \n",
    "    filePath = f'{filmFolderPath}\\\\{f}'\n",
    "    report = CheckFile(filePath)\n",
    "    \n",
    "    print(report)\n",
    "    "
   ]
  },
  {
   "cell_type": "code",
   "execution_count": null,
   "metadata": {},
   "outputs": [],
   "source": []
  }
 ],
 "metadata": {
  "kernelspec": {
   "display_name": "Python 3",
   "language": "python",
   "name": "python3"
  },
  "language_info": {
   "codemirror_mode": {
    "name": "ipython",
    "version": 3
   },
   "file_extension": ".py",
   "mimetype": "text/x-python",
   "name": "python",
   "nbconvert_exporter": "python",
   "pygments_lexer": "ipython3",
   "version": "3.8.3"
  }
 },
 "nbformat": 4,
 "nbformat_minor": 4
}
