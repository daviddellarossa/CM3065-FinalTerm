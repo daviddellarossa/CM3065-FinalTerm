{
 "cells": [
  {
   "cell_type": "markdown",
   "metadata": {},
   "source": [
    "# Final Term - Exercise 1\n",
    "### David Della Rossa\n"
   ]
  },
  {
   "cell_type": "code",
   "execution_count": 19,
   "metadata": {},
   "outputs": [],
   "source": [
    "import cv2"
   ]
  },
  {
   "cell_type": "markdown",
   "metadata": {},
   "source": [
    "### Task 1"
   ]
  },
  {
   "cell_type": "code",
   "execution_count": 44,
   "metadata": {},
   "outputs": [],
   "source": [
    "# Create a VideoCapture object and read the frames from an input file\n",
    "video=cv2.VideoCapture('Exercise1_Files\\Traffic_Laramie_1.mp4')\n",
    "\n",
    "# Check if the video opened successfully\n",
    "if not video.isOpened(): \n",
    "    print(\"Error opening video file\")\n",
    "    exit(0)\n",
    "\n",
    "#create an instance of type K-nearest neighbours background subtraction\n",
    "backSub = cv2.createBackgroundSubtractorKNN()\n",
    "\n",
    "# # Read until video is completed or we press 'q'\n",
    "while True:\n",
    "    # Capture frame-by-frame\n",
    "    # Note that VideoCapture captures the frames of a video without considering the fps of the video\n",
    "    check, frame = video.read()\n",
    "    \n",
    "    if check == False:\n",
    "        break;\n",
    "        \n",
    "    #calculate the foreground mask - this is the frame difference between the original frame and the calculated background\n",
    "    fgMask = backSub.apply(frame)\n",
    "    \n",
    "    \n",
    "    # The difference (the delta_frame) is converted into a binary image\n",
    "    # If a particular pixel value is greater than a certain threshold (specified by us here as 150),\n",
    "    # it will be assigned the value for White (255) else Black(0)\n",
    "    # Important: you may have to change the threshold value for a better performance with your webcam , room's light, etc.\n",
    "    threshold_frame=cv2.threshold(fgMask,100,255, cv2.THRESH_BINARY)[1]\n",
    "    \n",
    "    # The cv2.findContours() method we will identify all the contours in our image.\n",
    "    # This method expects 3 parameters, (a) image, (b) contour retrieval mode and\n",
    "    # (c) contour approximation method\n",
    "    (contours,_)=cv2.findContours(threshold_frame,cv2.RETR_EXTERNAL,cv2.CHAIN_APPROX_SIMPLE)\n",
    "\n",
    "    \n",
    "    for c in contours:\n",
    "        # contourArea() method filters out any small contours\n",
    "        (x, y, w, h)=cv2.boundingRect(c)\n",
    "        #filter out contours with a form factor that identifies human shapes\n",
    "        if (h/w > 1.5)  | (cv2.contourArea(c) < 500):\n",
    "            continue\n",
    "        cv2.rectangle(frame, (x, y), (x+w, y+h), (0,255,0), 1)\n",
    "    \n",
    "\n",
    "    if check == True:\n",
    "    \n",
    "        cv2.imshow('Webcam', frame)  \n",
    "        cv2.imshow('Threshold frame', threshold_frame)\n",
    "        cv2.imshow('FG Mask', fgMask)\n",
    "        if cv2.waitKey(1) & 0xFF == ord(\"q\"):\n",
    "            break\n",
    "    \n",
    "    else:\n",
    "        break\n",
    "\n",
    "# After the loop release the video object\n",
    "video.release()\n",
    "\n",
    "# Destroy all the windows\n",
    "cv2.destroyAllWindows()"
   ]
  },
  {
   "cell_type": "code",
   "execution_count": null,
   "metadata": {},
   "outputs": [],
   "source": []
  },
  {
   "cell_type": "code",
   "execution_count": null,
   "metadata": {},
   "outputs": [],
   "source": []
  }
 ],
 "metadata": {
  "kernelspec": {
   "display_name": "Python 3",
   "language": "python",
   "name": "python3"
  },
  "language_info": {
   "codemirror_mode": {
    "name": "ipython",
    "version": 3
   },
   "file_extension": ".py",
   "mimetype": "text/x-python",
   "name": "python",
   "nbconvert_exporter": "python",
   "pygments_lexer": "ipython3",
   "version": "3.8.3"
  }
 },
 "nbformat": 4,
 "nbformat_minor": 4
}
