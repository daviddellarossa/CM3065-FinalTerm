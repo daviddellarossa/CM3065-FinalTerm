{
 "cells": [
  {
   "cell_type": "markdown",
   "metadata": {},
   "source": [
    "## Exercise 2\n"
   ]
  },
  {
   "cell_type": "code",
   "execution_count": 1,
   "metadata": {},
   "outputs": [],
   "source": [
    "import math"
   ]
  },
  {
   "cell_type": "code",
   "execution_count": 2,
   "metadata": {},
   "outputs": [],
   "source": [
    "def RiceEncode(value, k):\n",
    "    m = math.pow(2, k)\n",
    "    \n",
    "    quotient =  int(math.floor(value/m))\n",
    "    remainder = int(value % m)\n",
    "    \n",
    "    quotientCode = ('1' * quotient) + '0'\n",
    "    remainderCode = format(remainder, f'0{k}b')\n",
    "    \n",
    "    encodedValue = quotientCode + remainderCode\n",
    "    \n",
    "    #print(f'value: {value}, {bin(value)[2:]}, k: {k}')\n",
    "    #print(f'quotient: {quotient}, remainder: {remainder}')\n",
    "    #print(f'quotient_code: {quotientCode}, remainder_code: {remainderCode}')\n",
    "    #print(f'encoded_value: {encodedValue}')\n",
    "    return int(encodedValue, 2)\n",
    "\n",
    "def RiceDecode(value, k):\n",
    "    m = math.pow(2, k)\n",
    "    strValue = bin(value)[2:]\n",
    "    indexOfFirstZero = str(strValue).index('0')\n",
    "    print(f'index of first zero: {indexOfFirstZero}')\n",
    "    \n",
    "    quotientCode = strValue[0:indexOfFirstZero]\n",
    "    remainderCode = strValue[indexOfFirstZero + 1:]\n",
    "    print(f'quotient code: {quotientCode}0, remainder code: {remainderCode}')\n",
    "    \n",
    "    quotient = len(quotientCode)\n",
    "    remainder = int(remainderCode, 2)\n",
    "    print(f'quotient: {quotient}, remainder: {remainder}')\n",
    "    \n",
    "    decodedValue = int(quotient * m + remainder)\n",
    "    return decodedValue\n",
    "\n",
    "\n",
    "def EncodeFileWithRiceEncode(source, destination, k, bufSize):\n",
    "    #Read from source byte by byte.\n",
    "    #Encode each byte. The encoded value can be longer or shorter than a byte.\n",
    "    #If it is longer, split it in chunks one-byte long and add it to the buffer\n",
    "    #If it is shorter, packs it into one byte and fill the remaining bits with the next chunk\n",
    "    \n",
    "    #buffer\n",
    "    buffer = bytearray()\n",
    "    #temporary byte where to store bits\n",
    "    dByte = 0\n",
    "    #bits left empty in the dByte\n",
    "    bitsLeft = 8\n",
    "    \n",
    "    with open(source, \"rb\") as sStream:\n",
    "        with open(destination, \"wb\") as dStream:\n",
    "            #read from source byte-by-byte\n",
    "            while (sByte := sStream.read(1)):\n",
    "                #print(f'sByte: {int.from_bytes(sByte, \"big\")}')\n",
    "                #Encode the byte\n",
    "                iEncByte = RiceEncode(int.from_bytes(sByte, \"big\"), k);\n",
    "                sEncByte = bin(iEncByte)[2:]\n",
    "                #print(f'sByte: { int.from_bytes(sByte, \"big\")}, iEncByte: { iEncByte}, sEncByte: { sEncByte}')\n",
    "                #index store the current position in the encoded value\n",
    "                index = 0\n",
    "                #pack the encode value in chunks into dByte\n",
    "                while(index < len(sEncByte)):\n",
    "                    #read bytes from index to nextIndex, max 8 bits, not going beyong the end of encoded value\n",
    "                    nextIndex = min(index+bitsLeft, len(sEncByte))\n",
    "                    #how many bits left empty in dByte\n",
    "                    bitsLeft -= (nextIndex - index)\n",
    "                    #pack the bits into dByte\n",
    "                    #If the number of bits to pack fills dByte, there is no bit shift to do\n",
    "                    #If the number of bits to pack is shorter than the number of bits left, \n",
    "                    #shift the bits to the left so as to pack them into the dByte and left the free space on the right side\n",
    "                    dByte |= (int(sEncByte[index:nextIndex], 2) << bitsLeft)\n",
    "                    \n",
    "                    #If there are no bits left, meaning that the dByte is fully packed\n",
    "                    if(bitsLeft == 0):\n",
    "                        #add the dByte to the buffer\n",
    "                        buffer.append(dByte)\n",
    "                        #empty the dByte for next iteration\n",
    "                        dByte = 0\n",
    "                        #reset the number of available bits in dByte\n",
    "                        bitsLeft = 8\n",
    "                        #Check the buffer, if its full (its size is greater than or equal to the buffers size set in bufSize)\n",
    "                        if(len(buffer) >= bufSize):\n",
    "                            #write the buffer into the destination stream\n",
    "                            dStream.write(buffer)\n",
    "                            #empty the buffer\n",
    "                            buffer = bytearray()\n",
    "                    \n",
    "                    #Update the index for the next iteration throught the encoded value\n",
    "                    index = nextIndex\n",
    "                \n",
    "            #If sStream is EOF but there is a dByte partially filled, add it to the buffer and flush\n",
    "            if(bitsLeft != 8):\n",
    "                buffer.append(dByte)\n",
    "                \n",
    "            dStream.write(buffer)\n",
    "    \n",
    "                    "
   ]
  },
  {
   "cell_type": "code",
   "execution_count": 3,
   "metadata": {},
   "outputs": [
    {
     "name": "stdout",
     "output_type": "stream",
     "text": [
      "value: 82, encoded value: 994\n",
      "index of first zero: 5\n",
      "quotient code: 111110, remainder code: 0010\n",
      "quotient: 5, remainder: 2\n",
      "decoded value: 82\n"
     ]
    }
   ],
   "source": [
    "k = 4\n",
    "value = 82\n",
    "\n",
    "encodedValue = RiceEncode(int(value), k)\n",
    "print(f'value: {value}, encoded value: {encodedValue}')\n",
    "\n",
    "decodedValue = RiceDecode(encodedValue, k)\n",
    "print(f'decoded value: { decodedValue}')"
   ]
  },
  {
   "cell_type": "code",
   "execution_count": 8,
   "metadata": {},
   "outputs": [
    {
     "name": "stdout",
     "output_type": "stream",
     "text": [
      "Done!\n"
     ]
    }
   ],
   "source": [
    "originalFile = \"Exercise2_Files\\Sound1.wav\"\n",
    "encodedFile = \"Exercise2_Files\\Sound1_Enc.ex2\"\n",
    "decodedFile = \"Exercise2_Files\\Sound1_Enc_Dec.wav\"\n",
    "\n",
    "k = 4\n",
    "bufSize = 256\n",
    "\n",
    "EncodeFileWithRiceEncode(originalFile, encodedFile, k, bufSize)\n",
    "\n",
    "print(\"Done!\")\n"
   ]
  },
  {
   "cell_type": "code",
   "execution_count": null,
   "metadata": {},
   "outputs": [],
   "source": []
  }
 ],
 "metadata": {
  "kernelspec": {
   "display_name": "Python 3",
   "language": "python",
   "name": "python3"
  },
  "language_info": {
   "codemirror_mode": {
    "name": "ipython",
    "version": 3
   },
   "file_extension": ".py",
   "mimetype": "text/x-python",
   "name": "python",
   "nbconvert_exporter": "python",
   "pygments_lexer": "ipython3",
   "version": "3.8.3"
  }
 },
 "nbformat": 4,
 "nbformat_minor": 4
}
