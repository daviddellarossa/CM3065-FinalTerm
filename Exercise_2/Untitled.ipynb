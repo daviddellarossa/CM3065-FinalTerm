{
 "cells": [
  {
   "cell_type": "markdown",
   "metadata": {},
   "source": [
    "## Exercise 2\n"
   ]
  },
  {
   "cell_type": "code",
   "execution_count": 2,
   "metadata": {},
   "outputs": [],
   "source": [
    "import math"
   ]
  },
  {
   "cell_type": "code",
   "execution_count": 93,
   "metadata": {},
   "outputs": [],
   "source": [
    "def RiceEncode(value, k):\n",
    "    m = math.pow(2, k)\n",
    "    \n",
    "    quotient =  int(math.floor(value/m))\n",
    "    remainder = int(value % m)\n",
    "    \n",
    "    quotientCode = ('1' * quotient) + '0'\n",
    "    remainderCode = format(remainder, f'0{k}b')\n",
    "    \n",
    "    encodedValue = quotientCode + remainderCode\n",
    "    \n",
    "    print(f'value: {value}, {bin(value)[2:]}, k: {k}')\n",
    "    print(f'quotient: {quotient}, remainder: {remainder}')\n",
    "    print(f'quotient_code: {quotientCode}, remainder_code: {remainderCode}')\n",
    "    print(f'encoded_value: {encodedValue}')\n",
    "    return encodedValue\n",
    "\n",
    "def RiceDecode(value, k):\n",
    "    m = math.pow(2, k)\n",
    "    \n",
    "    indexOfFirstZero = str(value).index('0')\n",
    "    print(f'index of first zero: {indexOfFirstZero}')\n",
    "    \n",
    "    quotientCode = value[0:indexOfFirstZero]\n",
    "    remainderCode = value[indexOfFirstZero + 1:]\n",
    "    print(f'quotient code: {quotientCode}0, remainder code: {remainderCode}')\n",
    "    \n",
    "    quotient = len(quotientCode)\n",
    "    remainder = int(remainderCode, 2)\n",
    "    print(f'quotient: {quotient}, remainder: {remainder}')\n",
    "    \n",
    "    decodedValue = int(quotient * m + remainder)\n",
    "    return decodedValue\n",
    "\n",
    "    "
   ]
  },
  {
   "cell_type": "code",
   "execution_count": 94,
   "metadata": {},
   "outputs": [
    {
     "name": "stdout",
     "output_type": "stream",
     "text": [
      "value: 19, 10011, k: 4\n",
      "quotient: 1, remainder: 3\n",
      "quotient_code: 10, remainder_code: 0011\n",
      "encoded_value: 100011\n",
      "value: 19, encoded value: 100011\n",
      "index of first zero: 1\n",
      "quotient code: 10, remainder code: 0011\n",
      "quotient: 1, remainder: 3\n",
      "decoded value: 19\n"
     ]
    }
   ],
   "source": [
    "k = 4\n",
    "value = 19\n",
    "\n",
    "encodedValue = RiceEncode(value, k)\n",
    "print(f'value: {value}, encoded value: {encodedValue}')\n",
    "\n",
    "decodedValue = RiceDecode(encodedValue, k)\n",
    "print(f'decoded value: { decodedValue}')"
   ]
  },
  {
   "cell_type": "markdown",
   "metadata": {},
   "source": []
  }
 ],
 "metadata": {
  "kernelspec": {
   "display_name": "Python 3",
   "language": "python",
   "name": "python3"
  },
  "language_info": {
   "codemirror_mode": {
    "name": "ipython",
    "version": 3
   },
   "file_extension": ".py",
   "mimetype": "text/x-python",
   "name": "python",
   "nbconvert_exporter": "python",
   "pygments_lexer": "ipython3",
   "version": "3.8.3"
  }
 },
 "nbformat": 4,
 "nbformat_minor": 4
}
